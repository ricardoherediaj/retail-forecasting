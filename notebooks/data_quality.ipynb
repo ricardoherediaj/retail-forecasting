{
 "cells": [
  {
   "cell_type": "markdown",
   "id": "d31dea65",
   "metadata": {},
   "source": [
    "# DATA QUALITY"
   ]
  },
  {
   "cell_type": "markdown",
   "id": "swiss-fault",
   "metadata": {},
   "source": [
    "## IMPORT PACKAGES\n"
   ]
  },
  {
   "cell_type": "code",
   "execution_count": 2,
   "id": "adjacent-toddler",
   "metadata": {},
   "outputs": [],
   "source": [
    "import sys\n",
    "import os\n",
    "sys.path.append(os.path.abspath('..')) \n",
    "\n",
    "import numpy as np\n",
    "import pandas as pd\n",
    "from janitor import clean_names\n",
    "from paths import (\n",
    "    TRANSFORMED_DATA_DIR,\n",
    "    VALIDATION_DIR\n",
    ")\n",
    "\n",
    "# Quick autocompletion\n",
    "%config IPCompleter.greedy=True"
   ]
  },
  {
   "cell_type": "markdown",
   "id": "graduate-compensation",
   "metadata": {},
   "source": [
    "## IMPORT DATA"
   ]
  },
  {
   "cell_type": "code",
   "execution_count": 3,
   "id": "5d9dc5ea",
   "metadata": {},
   "outputs": [
    {
     "data": {
      "text/html": [
       "<div>\n",
       "<style scoped>\n",
       "    .dataframe tbody tr th:only-of-type {\n",
       "        vertical-align: middle;\n",
       "    }\n",
       "\n",
       "    .dataframe tbody tr th {\n",
       "        vertical-align: top;\n",
       "    }\n",
       "\n",
       "    .dataframe thead th {\n",
       "        text-align: right;\n",
       "    }\n",
       "</style>\n",
       "<table border=\"1\" class=\"dataframe\">\n",
       "  <thead>\n",
       "    <tr style=\"text-align: right;\">\n",
       "      <th></th>\n",
       "      <th>item_id</th>\n",
       "      <th>dept_id</th>\n",
       "      <th>cat_id</th>\n",
       "      <th>store_id</th>\n",
       "      <th>state_id</th>\n",
       "      <th>d</th>\n",
       "      <th>sales</th>\n",
       "      <th>wm_yr_wk</th>\n",
       "      <th>weekday</th>\n",
       "      <th>wday</th>\n",
       "      <th>month</th>\n",
       "      <th>year</th>\n",
       "      <th>event_name_1</th>\n",
       "      <th>event_type_1</th>\n",
       "      <th>event_name_2</th>\n",
       "      <th>event_type_2</th>\n",
       "      <th>sell_price</th>\n",
       "    </tr>\n",
       "    <tr>\n",
       "      <th>date</th>\n",
       "      <th></th>\n",
       "      <th></th>\n",
       "      <th></th>\n",
       "      <th></th>\n",
       "      <th></th>\n",
       "      <th></th>\n",
       "      <th></th>\n",
       "      <th></th>\n",
       "      <th></th>\n",
       "      <th></th>\n",
       "      <th></th>\n",
       "      <th></th>\n",
       "      <th></th>\n",
       "      <th></th>\n",
       "      <th></th>\n",
       "      <th></th>\n",
       "      <th></th>\n",
       "    </tr>\n",
       "  </thead>\n",
       "  <tbody>\n",
       "    <tr>\n",
       "      <th>2013-01-01</th>\n",
       "      <td>FOODS_3_090</td>\n",
       "      <td>FOODS_3</td>\n",
       "      <td>FOODS</td>\n",
       "      <td>CA_3</td>\n",
       "      <td>CA</td>\n",
       "      <td>d_704</td>\n",
       "      <td>0</td>\n",
       "      <td>11249</td>\n",
       "      <td>Tuesday</td>\n",
       "      <td>4</td>\n",
       "      <td>1</td>\n",
       "      <td>2013</td>\n",
       "      <td>NewYear</td>\n",
       "      <td>National</td>\n",
       "      <td>None</td>\n",
       "      <td>None</td>\n",
       "      <td>1.25</td>\n",
       "    </tr>\n",
       "    <tr>\n",
       "      <th>2013-01-01</th>\n",
       "      <td>FOODS_3_120</td>\n",
       "      <td>FOODS_3</td>\n",
       "      <td>FOODS</td>\n",
       "      <td>CA_3</td>\n",
       "      <td>CA</td>\n",
       "      <td>d_704</td>\n",
       "      <td>0</td>\n",
       "      <td>11249</td>\n",
       "      <td>Tuesday</td>\n",
       "      <td>4</td>\n",
       "      <td>1</td>\n",
       "      <td>2013</td>\n",
       "      <td>NewYear</td>\n",
       "      <td>National</td>\n",
       "      <td>None</td>\n",
       "      <td>None</td>\n",
       "      <td>4.98</td>\n",
       "    </tr>\n",
       "    <tr>\n",
       "      <th>2013-01-01</th>\n",
       "      <td>FOODS_3_202</td>\n",
       "      <td>FOODS_3</td>\n",
       "      <td>FOODS</td>\n",
       "      <td>CA_3</td>\n",
       "      <td>CA</td>\n",
       "      <td>d_704</td>\n",
       "      <td>20</td>\n",
       "      <td>11249</td>\n",
       "      <td>Tuesday</td>\n",
       "      <td>4</td>\n",
       "      <td>1</td>\n",
       "      <td>2013</td>\n",
       "      <td>NewYear</td>\n",
       "      <td>National</td>\n",
       "      <td>None</td>\n",
       "      <td>None</td>\n",
       "      <td>4.28</td>\n",
       "    </tr>\n",
       "    <tr>\n",
       "      <th>2013-01-01</th>\n",
       "      <td>FOODS_3_252</td>\n",
       "      <td>FOODS_3</td>\n",
       "      <td>FOODS</td>\n",
       "      <td>CA_3</td>\n",
       "      <td>CA</td>\n",
       "      <td>d_704</td>\n",
       "      <td>34</td>\n",
       "      <td>11249</td>\n",
       "      <td>Tuesday</td>\n",
       "      <td>4</td>\n",
       "      <td>1</td>\n",
       "      <td>2013</td>\n",
       "      <td>NewYear</td>\n",
       "      <td>National</td>\n",
       "      <td>None</td>\n",
       "      <td>None</td>\n",
       "      <td>1.48</td>\n",
       "    </tr>\n",
       "    <tr>\n",
       "      <th>2013-01-01</th>\n",
       "      <td>FOODS_3_288</td>\n",
       "      <td>FOODS_3</td>\n",
       "      <td>FOODS</td>\n",
       "      <td>CA_3</td>\n",
       "      <td>CA</td>\n",
       "      <td>d_704</td>\n",
       "      <td>0</td>\n",
       "      <td>11249</td>\n",
       "      <td>Tuesday</td>\n",
       "      <td>4</td>\n",
       "      <td>1</td>\n",
       "      <td>2013</td>\n",
       "      <td>NewYear</td>\n",
       "      <td>National</td>\n",
       "      <td>None</td>\n",
       "      <td>None</td>\n",
       "      <td>NaN</td>\n",
       "    </tr>\n",
       "    <tr>\n",
       "      <th>...</th>\n",
       "      <td>...</td>\n",
       "      <td>...</td>\n",
       "      <td>...</td>\n",
       "      <td>...</td>\n",
       "      <td>...</td>\n",
       "      <td>...</td>\n",
       "      <td>...</td>\n",
       "      <td>...</td>\n",
       "      <td>...</td>\n",
       "      <td>...</td>\n",
       "      <td>...</td>\n",
       "      <td>...</td>\n",
       "      <td>...</td>\n",
       "      <td>...</td>\n",
       "      <td>...</td>\n",
       "      <td>...</td>\n",
       "      <td>...</td>\n",
       "    </tr>\n",
       "    <tr>\n",
       "      <th>2015-11-30</th>\n",
       "      <td>FOODS_3_329</td>\n",
       "      <td>FOODS_3</td>\n",
       "      <td>FOODS</td>\n",
       "      <td>CA_4</td>\n",
       "      <td>CA</td>\n",
       "      <td>d_1767</td>\n",
       "      <td>5</td>\n",
       "      <td>11544</td>\n",
       "      <td>Monday</td>\n",
       "      <td>3</td>\n",
       "      <td>11</td>\n",
       "      <td>2015</td>\n",
       "      <td>None</td>\n",
       "      <td>None</td>\n",
       "      <td>None</td>\n",
       "      <td>None</td>\n",
       "      <td>2.98</td>\n",
       "    </tr>\n",
       "    <tr>\n",
       "      <th>2015-11-30</th>\n",
       "      <td>FOODS_3_555</td>\n",
       "      <td>FOODS_3</td>\n",
       "      <td>FOODS</td>\n",
       "      <td>CA_4</td>\n",
       "      <td>CA</td>\n",
       "      <td>d_1767</td>\n",
       "      <td>4</td>\n",
       "      <td>11544</td>\n",
       "      <td>Monday</td>\n",
       "      <td>3</td>\n",
       "      <td>11</td>\n",
       "      <td>2015</td>\n",
       "      <td>None</td>\n",
       "      <td>None</td>\n",
       "      <td>None</td>\n",
       "      <td>None</td>\n",
       "      <td>1.68</td>\n",
       "    </tr>\n",
       "    <tr>\n",
       "      <th>2015-11-30</th>\n",
       "      <td>FOODS_3_586</td>\n",
       "      <td>FOODS_3</td>\n",
       "      <td>FOODS</td>\n",
       "      <td>CA_4</td>\n",
       "      <td>CA</td>\n",
       "      <td>d_1767</td>\n",
       "      <td>9</td>\n",
       "      <td>11544</td>\n",
       "      <td>Monday</td>\n",
       "      <td>3</td>\n",
       "      <td>11</td>\n",
       "      <td>2015</td>\n",
       "      <td>None</td>\n",
       "      <td>None</td>\n",
       "      <td>None</td>\n",
       "      <td>None</td>\n",
       "      <td>1.68</td>\n",
       "    </tr>\n",
       "    <tr>\n",
       "      <th>2015-11-30</th>\n",
       "      <td>FOODS_3_587</td>\n",
       "      <td>FOODS_3</td>\n",
       "      <td>FOODS</td>\n",
       "      <td>CA_4</td>\n",
       "      <td>CA</td>\n",
       "      <td>d_1767</td>\n",
       "      <td>13</td>\n",
       "      <td>11544</td>\n",
       "      <td>Monday</td>\n",
       "      <td>3</td>\n",
       "      <td>11</td>\n",
       "      <td>2015</td>\n",
       "      <td>None</td>\n",
       "      <td>None</td>\n",
       "      <td>None</td>\n",
       "      <td>None</td>\n",
       "      <td>2.48</td>\n",
       "    </tr>\n",
       "    <tr>\n",
       "      <th>2015-11-30</th>\n",
       "      <td>FOODS_3_714</td>\n",
       "      <td>FOODS_3</td>\n",
       "      <td>FOODS</td>\n",
       "      <td>CA_4</td>\n",
       "      <td>CA</td>\n",
       "      <td>d_1767</td>\n",
       "      <td>9</td>\n",
       "      <td>11544</td>\n",
       "      <td>Monday</td>\n",
       "      <td>3</td>\n",
       "      <td>11</td>\n",
       "      <td>2015</td>\n",
       "      <td>None</td>\n",
       "      <td>None</td>\n",
       "      <td>None</td>\n",
       "      <td>None</td>\n",
       "      <td>1.58</td>\n",
       "    </tr>\n",
       "  </tbody>\n",
       "</table>\n",
       "<p>21280 rows × 17 columns</p>\n",
       "</div>"
      ],
      "text/plain": [
       "                item_id  dept_id cat_id store_id state_id       d  sales  \\\n",
       "date                                                                       \n",
       "2013-01-01  FOODS_3_090  FOODS_3  FOODS     CA_3       CA   d_704      0   \n",
       "2013-01-01  FOODS_3_120  FOODS_3  FOODS     CA_3       CA   d_704      0   \n",
       "2013-01-01  FOODS_3_202  FOODS_3  FOODS     CA_3       CA   d_704     20   \n",
       "2013-01-01  FOODS_3_252  FOODS_3  FOODS     CA_3       CA   d_704     34   \n",
       "2013-01-01  FOODS_3_288  FOODS_3  FOODS     CA_3       CA   d_704      0   \n",
       "...                 ...      ...    ...      ...      ...     ...    ...   \n",
       "2015-11-30  FOODS_3_329  FOODS_3  FOODS     CA_4       CA  d_1767      5   \n",
       "2015-11-30  FOODS_3_555  FOODS_3  FOODS     CA_4       CA  d_1767      4   \n",
       "2015-11-30  FOODS_3_586  FOODS_3  FOODS     CA_4       CA  d_1767      9   \n",
       "2015-11-30  FOODS_3_587  FOODS_3  FOODS     CA_4       CA  d_1767     13   \n",
       "2015-11-30  FOODS_3_714  FOODS_3  FOODS     CA_4       CA  d_1767      9   \n",
       "\n",
       "            wm_yr_wk  weekday  wday  month  year event_name_1 event_type_1  \\\n",
       "date                                                                         \n",
       "2013-01-01     11249  Tuesday     4      1  2013      NewYear     National   \n",
       "2013-01-01     11249  Tuesday     4      1  2013      NewYear     National   \n",
       "2013-01-01     11249  Tuesday     4      1  2013      NewYear     National   \n",
       "2013-01-01     11249  Tuesday     4      1  2013      NewYear     National   \n",
       "2013-01-01     11249  Tuesday     4      1  2013      NewYear     National   \n",
       "...              ...      ...   ...    ...   ...          ...          ...   \n",
       "2015-11-30     11544   Monday     3     11  2015         None         None   \n",
       "2015-11-30     11544   Monday     3     11  2015         None         None   \n",
       "2015-11-30     11544   Monday     3     11  2015         None         None   \n",
       "2015-11-30     11544   Monday     3     11  2015         None         None   \n",
       "2015-11-30     11544   Monday     3     11  2015         None         None   \n",
       "\n",
       "           event_name_2 event_type_2  sell_price  \n",
       "date                                              \n",
       "2013-01-01         None         None        1.25  \n",
       "2013-01-01         None         None        4.98  \n",
       "2013-01-01         None         None        4.28  \n",
       "2013-01-01         None         None        1.48  \n",
       "2013-01-01         None         None         NaN  \n",
       "...                 ...          ...         ...  \n",
       "2015-11-30         None         None        2.98  \n",
       "2015-11-30         None         None        1.68  \n",
       "2015-11-30         None         None        1.68  \n",
       "2015-11-30         None         None        2.48  \n",
       "2015-11-30         None         None        1.58  \n",
       "\n",
       "[21280 rows x 17 columns]"
      ]
     },
     "execution_count": 3,
     "metadata": {},
     "output_type": "execute_result"
    }
   ],
   "source": [
    "df = (pd.read_parquet(TRANSFORMED_DATA_DIR / 'work.parquet')\n",
    "      .drop(columns=['id'])\n",
    ")\n",
    "\n",
    "df"
   ]
  },
  {
   "cell_type": "markdown",
   "id": "d2d5443c",
   "metadata": {},
   "source": [
    "## GENERAL VIEWING"
   ]
  },
  {
   "cell_type": "code",
   "execution_count": 4,
   "id": "976c8ac6",
   "metadata": {},
   "outputs": [
    {
     "name": "stdout",
     "output_type": "stream",
     "text": [
      "<class 'pandas.core.frame.DataFrame'>\n",
      "DatetimeIndex: 21280 entries, 2013-01-01 to 2015-11-30\n",
      "Data columns (total 17 columns):\n",
      " #   Column        Non-Null Count  Dtype  \n",
      "---  ------        --------------  -----  \n",
      " 0   item_id       21280 non-null  object \n",
      " 1   dept_id       21280 non-null  object \n",
      " 2   cat_id        21280 non-null  object \n",
      " 3   store_id      21280 non-null  object \n",
      " 4   state_id      21280 non-null  object \n",
      " 5   d             21280 non-null  object \n",
      " 6   sales         21280 non-null  int64  \n",
      " 7   wm_yr_wk      21280 non-null  int64  \n",
      " 8   weekday       21280 non-null  object \n",
      " 9   wday          21280 non-null  int64  \n",
      " 10  month         21280 non-null  int64  \n",
      " 11  year          21280 non-null  int64  \n",
      " 12  event_name_1  1700 non-null   object \n",
      " 13  event_type_1  1700 non-null   object \n",
      " 14  event_name_2  60 non-null     object \n",
      " 15  event_type_2  60 non-null     object \n",
      " 16  sell_price    21209 non-null  float64\n",
      "dtypes: float64(1), int64(5), object(11)\n",
      "memory usage: 2.9+ MB\n"
     ]
    }
   ],
   "source": [
    "df.info()"
   ]
  },
  {
   "cell_type": "markdown",
   "id": "158ee1d7",
   "metadata": {},
   "source": [
    "## DATA TYPES"
   ]
  },
  {
   "cell_type": "code",
   "execution_count": 5,
   "id": "197a99c2",
   "metadata": {},
   "outputs": [
    {
     "data": {
      "text/plain": [
       "item_id          object\n",
       "dept_id          object\n",
       "cat_id           object\n",
       "store_id         object\n",
       "state_id         object\n",
       "d                object\n",
       "sales             int64\n",
       "wm_yr_wk          int64\n",
       "weekday          object\n",
       "wday              int64\n",
       "month             int64\n",
       "year              int64\n",
       "event_name_1     object\n",
       "event_type_1     object\n",
       "event_name_2     object\n",
       "event_type_2     object\n",
       "sell_price      float64\n",
       "dtype: object"
      ]
     },
     "execution_count": 5,
     "metadata": {},
     "output_type": "execute_result"
    }
   ],
   "source": [
    "df.dtypes"
   ]
  },
  {
   "cell_type": "markdown",
   "id": "097c987f",
   "metadata": {},
   "source": [
    "Conclusion: \n",
    "\n",
    "* year, month, and wday should be categorical"
   ]
  },
  {
   "cell_type": "markdown",
   "id": "fe903a4d",
   "metadata": {},
   "source": [
    "### Correction"
   ]
  },
  {
   "cell_type": "code",
   "execution_count": 6,
   "id": "4ca13f40",
   "metadata": {},
   "outputs": [
    {
     "data": {
      "text/plain": [
       "item_id          object\n",
       "dept_id          object\n",
       "cat_id           object\n",
       "store_id         object\n",
       "state_id         object\n",
       "d                object\n",
       "sales             int64\n",
       "wm_yr_wk          int64\n",
       "weekday          object\n",
       "wday             object\n",
       "month            object\n",
       "year             object\n",
       "event_name_1     object\n",
       "event_type_1     object\n",
       "event_name_2     object\n",
       "event_type_2     object\n",
       "sell_price      float64\n",
       "dtype: object"
      ]
     },
     "execution_count": 6,
     "metadata": {},
     "output_type": "execute_result"
    }
   ],
   "source": [
    "df = df.astype({'year':'O',\n",
    "               'month': 'O',\n",
    "               'wday': 'O'})\n",
    "\n",
    "df.dtypes"
   ]
  },
  {
   "cell_type": "markdown",
   "id": "cc8d4a22",
   "metadata": {},
   "source": [
    "## UNIQUE VALUES"
   ]
  },
  {
   "cell_type": "code",
   "execution_count": 7,
   "id": "a8fa5756",
   "metadata": {},
   "outputs": [
    {
     "data": {
      "text/plain": [
       "dept_id            1\n",
       "cat_id             1\n",
       "state_id           1\n",
       "store_id           2\n",
       "event_type_2       2\n",
       "year               3\n",
       "event_name_2       3\n",
       "event_type_1       4\n",
       "weekday            7\n",
       "wday               7\n",
       "item_id           10\n",
       "month             12\n",
       "sell_price        23\n",
       "event_name_1      30\n",
       "wm_yr_wk         153\n",
       "sales            301\n",
       "d               1064\n",
       "dtype: int64"
      ]
     },
     "execution_count": 7,
     "metadata": {},
     "output_type": "execute_result"
    }
   ],
   "source": [
    "df.nunique().sort_values()"
   ]
  },
  {
   "cell_type": "markdown",
   "id": "b1d1a668",
   "metadata": {},
   "source": [
    "### Correction"
   ]
  },
  {
   "cell_type": "code",
   "execution_count": 8,
   "id": "62f7d14e",
   "metadata": {},
   "outputs": [],
   "source": [
    "df.drop(columns = ['state_id','cat_id','dept_id'], inplace = True)"
   ]
  },
  {
   "cell_type": "markdown",
   "id": "e25cfc89",
   "metadata": {},
   "source": [
    "## DUPLICATES"
   ]
  },
  {
   "cell_type": "code",
   "execution_count": 9,
   "id": "f5b23bfc",
   "metadata": {
    "scrolled": true
   },
   "outputs": [
    {
     "data": {
      "text/plain": [
       "np.int64(0)"
      ]
     },
     "execution_count": 9,
     "metadata": {},
     "output_type": "execute_result"
    }
   ],
   "source": [
    "df.duplicated().sum()"
   ]
  },
  {
   "cell_type": "markdown",
   "id": "632ec2cd",
   "metadata": {},
   "source": [
    "## SPLIT NUMERICAL AND CATEGORICAL"
   ]
  },
  {
   "cell_type": "markdown",
   "id": "573a61ac",
   "metadata": {},
   "source": [
    "### Categorical"
   ]
  },
  {
   "cell_type": "code",
   "execution_count": 10,
   "id": "47a7eece",
   "metadata": {},
   "outputs": [],
   "source": [
    "cat = df.select_dtypes(exclude = 'number').copy()"
   ]
  },
  {
   "cell_type": "markdown",
   "id": "41756893",
   "metadata": {},
   "source": [
    "### Numeric"
   ]
  },
  {
   "cell_type": "code",
   "execution_count": 11,
   "id": "59140e9a",
   "metadata": {},
   "outputs": [],
   "source": [
    "num = df.select_dtypes(include='number').copy()"
   ]
  },
  {
   "cell_type": "markdown",
   "id": "5e7d8e7e",
   "metadata": {},
   "source": [
    "## CATEGORICAL MANAGEMENT"
   ]
  },
  {
   "cell_type": "markdown",
   "id": "5b5808b7",
   "metadata": {},
   "source": [
    "### Nulls"
   ]
  },
  {
   "cell_type": "code",
   "execution_count": 12,
   "id": "da49ae63",
   "metadata": {
    "scrolled": true
   },
   "outputs": [
    {
     "data": {
      "text/plain": [
       "event_name_2    21220\n",
       "event_type_2    21220\n",
       "event_name_1    19580\n",
       "event_type_1    19580\n",
       "d                   0\n",
       "item_id             0\n",
       "store_id            0\n",
       "year                0\n",
       "month               0\n",
       "wday                0\n",
       "weekday             0\n",
       "dtype: int64"
      ]
     },
     "execution_count": 12,
     "metadata": {},
     "output_type": "execute_result"
    }
   ],
   "source": [
    "cat.isna().sum().sort_values(ascending = False)"
   ]
  },
  {
   "cell_type": "code",
   "execution_count": 13,
   "id": "ad3df383",
   "metadata": {},
   "outputs": [
    {
     "data": {
      "text/plain": [
       "event_name_1\n",
       "None                   19580\n",
       "NewYear                   60\n",
       "OrthodoxChristmas         60\n",
       "MartinLutherKingDay       60\n",
       "SuperBowl                 60\n",
       "LentStart                 60\n",
       "ValentinesDay             60\n",
       "PresidentsDay             60\n",
       "LentWeek2                 60\n",
       "Purim End                 60\n",
       "StPatricksDay             60\n",
       "Easter                    60\n",
       "Pesach End                60\n",
       "Mother's day              60\n",
       "MemorialDay               60\n",
       "Thanksgiving              60\n",
       "NBAFinalsStart            60\n",
       "NBAFinalsEnd              60\n",
       "IndependenceDay           60\n",
       "Eid al-Fitr               60\n",
       "Ramadan starts            60\n",
       "LaborDay                  60\n",
       "ColumbusDay               60\n",
       "Halloween                 60\n",
       "EidAlAdha                 60\n",
       "VeteransDay               60\n",
       "OrthodoxEaster            40\n",
       "Father's day              40\n",
       "Chanukah End              40\n",
       "Christmas                 40\n",
       "Cinco De Mayo             40\n",
       "Name: count, dtype: int64"
      ]
     },
     "execution_count": 13,
     "metadata": {},
     "output_type": "execute_result"
    }
   ],
   "source": [
    "cat.event_name_1.value_counts(dropna=False)"
   ]
  },
  {
   "cell_type": "code",
   "execution_count": 14,
   "id": "73788a15",
   "metadata": {},
   "outputs": [
    {
     "data": {
      "text/plain": [
       "event_name_2\n",
       "None              21220\n",
       "Cinco De Mayo        20\n",
       "OrthodoxEaster       20\n",
       "Father's day         20\n",
       "Name: count, dtype: int64"
      ]
     },
     "execution_count": 14,
     "metadata": {},
     "output_type": "execute_result"
    }
   ],
   "source": [
    "cat.event_name_2.value_counts(dropna=False)"
   ]
  },
  {
   "cell_type": "code",
   "execution_count": 15,
   "id": "0c175b1e",
   "metadata": {},
   "outputs": [
    {
     "data": {
      "text/plain": [
       "event_type_1\n",
       "None         19580\n",
       "National       580\n",
       "Religious      560\n",
       "Cultural       380\n",
       "Sporting       180\n",
       "Name: count, dtype: int64"
      ]
     },
     "execution_count": 15,
     "metadata": {},
     "output_type": "execute_result"
    }
   ],
   "source": [
    "cat.event_type_1.value_counts(dropna=False)"
   ]
  },
  {
   "cell_type": "code",
   "execution_count": 16,
   "id": "0450ca79",
   "metadata": {},
   "outputs": [
    {
     "data": {
      "text/plain": [
       "event_type_2\n",
       "None         21220\n",
       "Cultural        40\n",
       "Religious       20\n",
       "Name: count, dtype: int64"
      ]
     },
     "execution_count": 16,
     "metadata": {},
     "output_type": "execute_result"
    }
   ],
   "source": [
    "cat.event_type_2.value_counts(dropna=False)"
   ]
  },
  {
   "cell_type": "code",
   "execution_count": 17,
   "id": "75e88767",
   "metadata": {},
   "outputs": [
    {
     "data": {
      "text/html": [
       "<div>\n",
       "<style scoped>\n",
       "    .dataframe tbody tr th:only-of-type {\n",
       "        vertical-align: middle;\n",
       "    }\n",
       "\n",
       "    .dataframe tbody tr th {\n",
       "        vertical-align: top;\n",
       "    }\n",
       "\n",
       "    .dataframe thead th {\n",
       "        text-align: right;\n",
       "    }\n",
       "</style>\n",
       "<table border=\"1\" class=\"dataframe\">\n",
       "  <thead>\n",
       "    <tr style=\"text-align: right;\">\n",
       "      <th>event_name_2</th>\n",
       "      <th>Cinco De Mayo</th>\n",
       "      <th>Father's day</th>\n",
       "      <th>OrthodoxEaster</th>\n",
       "    </tr>\n",
       "    <tr>\n",
       "      <th>event_name_1</th>\n",
       "      <th></th>\n",
       "      <th></th>\n",
       "      <th></th>\n",
       "    </tr>\n",
       "  </thead>\n",
       "  <tbody>\n",
       "    <tr>\n",
       "      <th>Easter</th>\n",
       "      <td>0</td>\n",
       "      <td>0</td>\n",
       "      <td>20</td>\n",
       "    </tr>\n",
       "    <tr>\n",
       "      <th>NBAFinalsEnd</th>\n",
       "      <td>0</td>\n",
       "      <td>20</td>\n",
       "      <td>0</td>\n",
       "    </tr>\n",
       "    <tr>\n",
       "      <th>OrthodoxEaster</th>\n",
       "      <td>20</td>\n",
       "      <td>0</td>\n",
       "      <td>0</td>\n",
       "    </tr>\n",
       "  </tbody>\n",
       "</table>\n",
       "</div>"
      ],
      "text/plain": [
       "event_name_2    Cinco De Mayo  Father's day  OrthodoxEaster\n",
       "event_name_1                                               \n",
       "Easter                      0             0              20\n",
       "NBAFinalsEnd                0            20               0\n",
       "OrthodoxEaster             20             0               0"
      ]
     },
     "execution_count": 17,
     "metadata": {},
     "output_type": "execute_result"
    }
   ],
   "source": [
    "pd.crosstab(index=cat['event_name_1'], columns=cat['event_name_2'])"
   ]
  },
  {
   "cell_type": "markdown",
   "id": "c827a014",
   "metadata": {},
   "source": [
    "Conclusions:\n",
    "\n",
    "* event_name_2 has events that are already included in event_name_1\n",
    "* but then when crossing them they don't match\n",
    "* as we don't know why we are going to delete event_name_2 and also event_type_2\n",
    "* in terms of the nulls of event_name_1 and event_type_1 it seems clear that they are \"None\" days, so we will impute them as such\n"
   ]
  },
  {
   "cell_type": "markdown",
   "id": "6802d575",
   "metadata": {},
   "source": [
    "#### Correction"
   ]
  },
  {
   "cell_type": "markdown",
   "id": "8b7a0f5c",
   "metadata": {},
   "source": [
    "##### Eliminate variable"
   ]
  },
  {
   "cell_type": "code",
   "execution_count": 18,
   "id": "e73e2300",
   "metadata": {},
   "outputs": [],
   "source": [
    "cat.drop(columns = ['event_name_2','event_type_2'],inplace = True)"
   ]
  },
  {
   "cell_type": "markdown",
   "id": "ebeb52a6",
   "metadata": {},
   "source": [
    "##### Impute for a value"
   ]
  },
  {
   "cell_type": "markdown",
   "id": "2cba1c3c",
   "metadata": {},
   "source": [
    "###### Variables to impute"
   ]
  },
  {
   "cell_type": "code",
   "execution_count": 19,
   "id": "4050ef9f",
   "metadata": {},
   "outputs": [],
   "source": [
    "var_impute_value = ['event_name_1','event_type_1']"
   ]
  },
  {
   "cell_type": "markdown",
   "id": "fa866ac6",
   "metadata": {},
   "source": [
    "###### Value to impute"
   ]
  },
  {
   "cell_type": "code",
   "execution_count": 20,
   "id": "10abb34a",
   "metadata": {},
   "outputs": [],
   "source": [
    "value = 'None'"
   ]
  },
  {
   "cell_type": "markdown",
   "id": "78d10252",
   "metadata": {},
   "source": [
    "###### Impute"
   ]
  },
  {
   "cell_type": "code",
   "execution_count": 21,
   "id": "f16e8491",
   "metadata": {},
   "outputs": [],
   "source": [
    "cat[var_impute_value] = cat[var_impute_value].fillna(value)"
   ]
  },
  {
   "cell_type": "markdown",
   "id": "ca43fa60",
   "metadata": {},
   "source": [
    "Check"
   ]
  },
  {
   "cell_type": "code",
   "execution_count": 22,
   "id": "942b9c2b",
   "metadata": {
    "scrolled": true
   },
   "outputs": [
    {
     "data": {
      "text/plain": [
       "item_id         0\n",
       "store_id        0\n",
       "d               0\n",
       "weekday         0\n",
       "wday            0\n",
       "month           0\n",
       "year            0\n",
       "event_name_1    0\n",
       "event_type_1    0\n",
       "dtype: int64"
      ]
     },
     "execution_count": 22,
     "metadata": {},
     "output_type": "execute_result"
    }
   ],
   "source": [
    "cat.isna().sum().sort_values(ascending = False)"
   ]
  },
  {
   "cell_type": "markdown",
   "id": "913cd65d",
   "metadata": {},
   "source": [
    "### Outliers"
   ]
  },
  {
   "cell_type": "markdown",
   "id": "5a575397",
   "metadata": {},
   "source": [
    "#### Less frequent categories"
   ]
  },
  {
   "cell_type": "markdown",
   "id": "a7162b68",
   "metadata": {},
   "source": [
    "##### Identification"
   ]
  },
  {
   "cell_type": "code",
   "execution_count": 23,
   "id": "abe78833",
   "metadata": {},
   "outputs": [
    {
     "name": "stdout",
     "output_type": "stream",
     "text": [
      "item_id\n",
      "\n",
      "item_id\n",
      "FOODS_3_090    2128\n",
      "FOODS_3_120    2128\n",
      "FOODS_3_202    2128\n",
      "FOODS_3_252    2128\n",
      "FOODS_3_288    2128\n",
      "FOODS_3_329    2128\n",
      "FOODS_3_555    2128\n",
      "FOODS_3_586    2128\n",
      "FOODS_3_587    2128\n",
      "FOODS_3_714    2128\n",
      "Name: count, dtype: int64\n",
      "\n",
      "\n",
      "\n",
      "store_id\n",
      "\n",
      "store_id\n",
      "CA_3    10640\n",
      "CA_4    10640\n",
      "Name: count, dtype: int64\n",
      "\n",
      "\n",
      "\n",
      "d\n",
      "\n",
      "d\n",
      "d_1767    20\n",
      "d_704     20\n",
      "d_705     20\n",
      "d_706     20\n",
      "d_707     20\n",
      "          ..\n",
      "d_715     20\n",
      "d_716     20\n",
      "d_717     20\n",
      "d_718     20\n",
      "d_719     20\n",
      "Name: count, Length: 1064, dtype: int64\n",
      "\n",
      "\n",
      "\n",
      "weekday\n",
      "\n",
      "weekday\n",
      "Tuesday      3040\n",
      "Wednesday    3040\n",
      "Thursday     3040\n",
      "Friday       3040\n",
      "Saturday     3040\n",
      "Sunday       3040\n",
      "Monday       3040\n",
      "Name: count, dtype: int64\n",
      "\n",
      "\n",
      "\n",
      "wday\n",
      "\n",
      "wday\n",
      "4    3040\n",
      "5    3040\n",
      "6    3040\n",
      "7    3040\n",
      "1    3040\n",
      "2    3040\n",
      "3    3040\n",
      "Name: count, dtype: int64\n",
      "\n",
      "\n",
      "\n",
      "month\n",
      "\n",
      "month\n",
      "1     1860\n",
      "3     1860\n",
      "7     1860\n",
      "5     1860\n",
      "8     1860\n",
      "10    1860\n",
      "6     1800\n",
      "4     1800\n",
      "11    1800\n",
      "9     1800\n",
      "2     1680\n",
      "12    1240\n",
      "Name: count, dtype: int64\n",
      "\n",
      "\n",
      "\n",
      "year\n",
      "\n",
      "year\n",
      "2013    7300\n",
      "2014    7300\n",
      "2015    6680\n",
      "Name: count, dtype: int64\n",
      "\n",
      "\n",
      "\n",
      "event_name_1\n",
      "\n",
      "event_name_1\n",
      "None                   19580\n",
      "NewYear                   60\n",
      "OrthodoxChristmas         60\n",
      "MartinLutherKingDay       60\n",
      "SuperBowl                 60\n",
      "LentStart                 60\n",
      "ValentinesDay             60\n",
      "PresidentsDay             60\n",
      "LentWeek2                 60\n",
      "Purim End                 60\n",
      "StPatricksDay             60\n",
      "Easter                    60\n",
      "Pesach End                60\n",
      "Mother's day              60\n",
      "MemorialDay               60\n",
      "Thanksgiving              60\n",
      "NBAFinalsStart            60\n",
      "NBAFinalsEnd              60\n",
      "IndependenceDay           60\n",
      "Eid al-Fitr               60\n",
      "Ramadan starts            60\n",
      "LaborDay                  60\n",
      "ColumbusDay               60\n",
      "Halloween                 60\n",
      "EidAlAdha                 60\n",
      "VeteransDay               60\n",
      "OrthodoxEaster            40\n",
      "Father's day              40\n",
      "Chanukah End              40\n",
      "Christmas                 40\n",
      "Cinco De Mayo             40\n",
      "Name: count, dtype: int64\n",
      "\n",
      "\n",
      "\n",
      "event_type_1\n",
      "\n",
      "event_type_1\n",
      "None         19580\n",
      "National       580\n",
      "Religious      560\n",
      "Cultural       380\n",
      "Sporting       180\n",
      "Name: count, dtype: int64\n",
      "\n",
      "\n",
      "\n"
     ]
    }
   ],
   "source": [
    "for variable in cat:\n",
    "    print(variable + '\\n')\n",
    "    print(cat[variable].value_counts(dropna = False))\n",
    "    print('\\n\\n')"
   ]
  },
  {
   "cell_type": "markdown",
   "id": "ac94e0cd",
   "metadata": {},
   "source": [
    "Conclusion:\n",
    "\n",
    "* There are not less frequent categories\n",
    "* There are months with less records, this may be because they are the months with less than 31 days\n",
    "* 2015 has less records, are they the validation or are there more?\n",
    "\n",
    "Let's check it."
   ]
  },
  {
   "cell_type": "code",
   "execution_count": 24,
   "id": "1a8241f6",
   "metadata": {},
   "outputs": [
    {
     "data": {
      "text/plain": [
       "year\n",
       "2013    365\n",
       "2014    365\n",
       "2015    334\n",
       "Name: d, dtype: int64"
      ]
     },
     "execution_count": 24,
     "metadata": {},
     "output_type": "execute_result"
    }
   ],
   "source": [
    "df.groupby('year').d.nunique()"
   ]
  },
  {
   "cell_type": "markdown",
   "id": "ff52b17a",
   "metadata": {},
   "source": [
    "There are 31 days in 2015, so there are some months with less records.\n",
    "\n",
    "Let's check which ones."
   ]
  },
  {
   "cell_type": "code",
   "execution_count": 25,
   "id": "bce6b17c",
   "metadata": {},
   "outputs": [
    {
     "data": {
      "text/plain": [
       "DatetimeIndex(['2015-12-01', '2015-12-02', '2015-12-03', '2015-12-04',\n",
       "               '2015-12-05', '2015-12-06', '2015-12-07', '2015-12-08',\n",
       "               '2015-12-09', '2015-12-10', '2015-12-11', '2015-12-12',\n",
       "               '2015-12-13', '2015-12-14', '2015-12-15', '2015-12-16',\n",
       "               '2015-12-17', '2015-12-18', '2015-12-19', '2015-12-20',\n",
       "               '2015-12-21', '2015-12-22', '2015-12-23', '2015-12-24',\n",
       "               '2015-12-25', '2015-12-26', '2015-12-27', '2015-12-28',\n",
       "               '2015-12-29', '2015-12-30', '2015-12-31'],\n",
       "              dtype='datetime64[ns]', freq='D')"
      ]
     },
     "execution_count": 25,
     "metadata": {},
     "output_type": "execute_result"
    }
   ],
   "source": [
    "pd.date_range(start = '2015-01-01', end = '2015-12-31' ).difference(df.loc['2015'].index)"
   ]
  },
  {
   "cell_type": "markdown",
   "id": "8aa1a9c6",
   "metadata": {},
   "source": [
    "It's clear that they are the dates from the validation set, so everything is correct."
   ]
  },
  {
   "cell_type": "markdown",
   "id": "db3a72a6",
   "metadata": {},
   "source": [
    "## NUMERICAL MANAGEMENT"
   ]
  },
  {
   "cell_type": "markdown",
   "id": "d65bd06a",
   "metadata": {},
   "source": [
    "### Statistics"
   ]
  },
  {
   "cell_type": "code",
   "execution_count": 26,
   "id": "04123afb",
   "metadata": {},
   "outputs": [
    {
     "data": {
      "text/html": [
       "<div>\n",
       "<style scoped>\n",
       "    .dataframe tbody tr th:only-of-type {\n",
       "        vertical-align: middle;\n",
       "    }\n",
       "\n",
       "    .dataframe tbody tr th {\n",
       "        vertical-align: top;\n",
       "    }\n",
       "\n",
       "    .dataframe thead th {\n",
       "        text-align: right;\n",
       "    }\n",
       "</style>\n",
       "<table border=\"1\" class=\"dataframe\">\n",
       "  <thead>\n",
       "    <tr style=\"text-align: right;\">\n",
       "      <th></th>\n",
       "      <th>count</th>\n",
       "      <th>mean</th>\n",
       "      <th>std</th>\n",
       "      <th>min</th>\n",
       "      <th>25%</th>\n",
       "      <th>50%</th>\n",
       "      <th>75%</th>\n",
       "      <th>max</th>\n",
       "    </tr>\n",
       "  </thead>\n",
       "  <tbody>\n",
       "    <tr>\n",
       "      <th>sales</th>\n",
       "      <td>21280.0</td>\n",
       "      <td>28.874577</td>\n",
       "      <td>38.988147</td>\n",
       "      <td>0.0</td>\n",
       "      <td>6.0</td>\n",
       "      <td>18.00</td>\n",
       "      <td>37.00</td>\n",
       "      <td>763.00</td>\n",
       "    </tr>\n",
       "    <tr>\n",
       "      <th>wm_yr_wk</th>\n",
       "      <td>21280.0</td>\n",
       "      <td>11415.022556</td>\n",
       "      <td>82.874752</td>\n",
       "      <td>11249.0</td>\n",
       "      <td>11335.0</td>\n",
       "      <td>11420.00</td>\n",
       "      <td>11506.00</td>\n",
       "      <td>11544.00</td>\n",
       "    </tr>\n",
       "    <tr>\n",
       "      <th>sell_price</th>\n",
       "      <td>21209.0</td>\n",
       "      <td>2.397254</td>\n",
       "      <td>1.237024</td>\n",
       "      <td>1.0</td>\n",
       "      <td>1.5</td>\n",
       "      <td>1.58</td>\n",
       "      <td>2.98</td>\n",
       "      <td>4.98</td>\n",
       "    </tr>\n",
       "  </tbody>\n",
       "</table>\n",
       "</div>"
      ],
      "text/plain": [
       "              count          mean        std      min      25%       50%  \\\n",
       "sales       21280.0     28.874577  38.988147      0.0      6.0     18.00   \n",
       "wm_yr_wk    21280.0  11415.022556  82.874752  11249.0  11335.0  11420.00   \n",
       "sell_price  21209.0      2.397254   1.237024      1.0      1.5      1.58   \n",
       "\n",
       "                 75%       max  \n",
       "sales          37.00    763.00  \n",
       "wm_yr_wk    11506.00  11544.00  \n",
       "sell_price      2.98      4.98  "
      ]
     },
     "execution_count": 26,
     "metadata": {},
     "output_type": "execute_result"
    }
   ],
   "source": [
    "num.describe().T"
   ]
  },
  {
   "cell_type": "markdown",
   "id": "2a15fb2e",
   "metadata": {},
   "source": [
    "### Nulls"
   ]
  },
  {
   "cell_type": "markdown",
   "id": "e5ee8416",
   "metadata": {},
   "source": [
    "### Identification"
   ]
  },
  {
   "cell_type": "code",
   "execution_count": 27,
   "id": "c9f054a3",
   "metadata": {
    "scrolled": true
   },
   "outputs": [
    {
     "data": {
      "text/plain": [
       "sell_price    71\n",
       "sales          0\n",
       "wm_yr_wk       0\n",
       "dtype: int64"
      ]
     },
     "execution_count": 27,
     "metadata": {},
     "output_type": "execute_result"
    }
   ],
   "source": [
    "num.isna().sum().sort_values(ascending = False)"
   ]
  },
  {
   "cell_type": "markdown",
   "id": "ece96011",
   "metadata": {},
   "source": [
    "sell_price is a relevant variable, let's see if we can find any pattern."
   ]
  },
  {
   "cell_type": "code",
   "execution_count": 28,
   "id": "5a7f5a87",
   "metadata": {},
   "outputs": [
    {
     "name": "stderr",
     "output_type": "stream",
     "text": [
      "/var/folders/b5/qz8x1m_510q3zk9lktbr3gx40000gn/T/ipykernel_15619/4110277298.py:2: DeprecationWarning: DataFrameGroupBy.apply operated on the grouping columns. This behavior is deprecated, and in a future version of pandas the grouping columns will be excluded from the operation. Either pass `include_groups=False` to exclude the groupings or explicitly select the grouping columns after groupby to silence this warning.\n",
      "  df.groupby('item_id').apply(lambda x: x.sell_price.isna().sum()).sort_values(ascending=False)\n"
     ]
    },
    {
     "data": {
      "text/plain": [
       "item_id\n",
       "FOODS_3_288    71\n",
       "FOODS_3_090     0\n",
       "FOODS_3_120     0\n",
       "FOODS_3_202     0\n",
       "FOODS_3_252     0\n",
       "FOODS_3_329     0\n",
       "FOODS_3_555     0\n",
       "FOODS_3_586     0\n",
       "FOODS_3_587     0\n",
       "FOODS_3_714     0\n",
       "dtype: int64"
      ]
     },
     "execution_count": 28,
     "metadata": {},
     "output_type": "execute_result"
    }
   ],
   "source": [
    "#Grouping by item_id\n",
    "df.groupby('item_id').apply(lambda x: x.sell_price.isna().sum()).sort_values(ascending=False)"
   ]
  },
  {
   "cell_type": "code",
   "execution_count": 30,
   "id": "77f3d1c7",
   "metadata": {},
   "outputs": [
    {
     "name": "stderr",
     "output_type": "stream",
     "text": [
      "/var/folders/b5/qz8x1m_510q3zk9lktbr3gx40000gn/T/ipykernel_15619/3642648053.py:2: DeprecationWarning: DataFrameGroupBy.apply operated on the grouping columns. This behavior is deprecated, and in a future version of pandas the grouping columns will be excluded from the operation. Either pass `include_groups=False` to exclude the groupings or explicitly select the grouping columns after groupby to silence this warning.\n",
      "  df.groupby('sales').apply(lambda x: x.sell_price.isna().sum()).sort_values(ascending=False)\n"
     ]
    },
    {
     "data": {
      "text/plain": [
       "sales\n",
       "0     71\n",
       "4      0\n",
       "5      0\n",
       "6      0\n",
       "7      0\n",
       "      ..\n",
       "40     0\n",
       "41     0\n",
       "42     0\n",
       "43     0\n",
       "2      0\n",
       "Length: 301, dtype: int64"
      ]
     },
     "execution_count": 30,
     "metadata": {},
     "output_type": "execute_result"
    }
   ],
   "source": [
    "#Grouping by sales\n",
    "df.groupby('sales').apply(lambda x: x.sell_price.isna().sum()).sort_values(ascending=False)"
   ]
  },
  {
   "cell_type": "markdown",
   "id": "088eb03d",
   "metadata": {},
   "source": [
    "---\n",
    "\n",
    "It is clear that they are from the validation set, so everything is correct.\n",
    "\n",
    "---\n",
    "\n",
    "It only happens with one product and only on the days when there are no sales.\n",
    "\n",
    "Clearly, the reason is that if there are no sales, the price is not assigned.\n",
    "\n",
    "We need to correct this, as it is artificial:\n",
    "\n",
    "* The product has a price even if there were no sales that day.\n",
    "\n",
    "What would make more sense is to impute those nulls with the first valid previous value SEGMENTED BY PRODUCT.\n",
    "\n",
    "But it could happen that the first day of a product had zero sales, which would carry the nulls forward without solving the problem.\n",
    "\n",
    "So we are going to impute using the most frequent price of EACH PRODUCT (the mode).\n",
    "\n",
    "This adds complexity, as we need the product, which we do not have in num.\n",
    "\n",
    "So we need to temporarily include it and then remove it."
   ]
  },
  {
   "cell_type": "markdown",
   "id": "5776bade",
   "metadata": {},
   "source": [
    "##### Add the product"
   ]
  },
  {
   "cell_type": "code",
   "execution_count": 31,
   "id": "6479ab46",
   "metadata": {},
   "outputs": [
    {
     "data": {
      "text/html": [
       "<div>\n",
       "<style scoped>\n",
       "    .dataframe tbody tr th:only-of-type {\n",
       "        vertical-align: middle;\n",
       "    }\n",
       "\n",
       "    .dataframe tbody tr th {\n",
       "        vertical-align: top;\n",
       "    }\n",
       "\n",
       "    .dataframe thead th {\n",
       "        text-align: right;\n",
       "    }\n",
       "</style>\n",
       "<table border=\"1\" class=\"dataframe\">\n",
       "  <thead>\n",
       "    <tr style=\"text-align: right;\">\n",
       "      <th></th>\n",
       "      <th>sales</th>\n",
       "      <th>wm_yr_wk</th>\n",
       "      <th>sell_price</th>\n",
       "      <th>item_id</th>\n",
       "    </tr>\n",
       "    <tr>\n",
       "      <th>date</th>\n",
       "      <th></th>\n",
       "      <th></th>\n",
       "      <th></th>\n",
       "      <th></th>\n",
       "    </tr>\n",
       "  </thead>\n",
       "  <tbody>\n",
       "    <tr>\n",
       "      <th>2013-01-01</th>\n",
       "      <td>0</td>\n",
       "      <td>11249</td>\n",
       "      <td>1.25</td>\n",
       "      <td>FOODS_3_090</td>\n",
       "    </tr>\n",
       "    <tr>\n",
       "      <th>2013-01-01</th>\n",
       "      <td>0</td>\n",
       "      <td>11249</td>\n",
       "      <td>4.98</td>\n",
       "      <td>FOODS_3_120</td>\n",
       "    </tr>\n",
       "    <tr>\n",
       "      <th>2013-01-01</th>\n",
       "      <td>20</td>\n",
       "      <td>11249</td>\n",
       "      <td>4.28</td>\n",
       "      <td>FOODS_3_202</td>\n",
       "    </tr>\n",
       "    <tr>\n",
       "      <th>2013-01-01</th>\n",
       "      <td>34</td>\n",
       "      <td>11249</td>\n",
       "      <td>1.48</td>\n",
       "      <td>FOODS_3_252</td>\n",
       "    </tr>\n",
       "    <tr>\n",
       "      <th>2013-01-01</th>\n",
       "      <td>0</td>\n",
       "      <td>11249</td>\n",
       "      <td>NaN</td>\n",
       "      <td>FOODS_3_288</td>\n",
       "    </tr>\n",
       "    <tr>\n",
       "      <th>...</th>\n",
       "      <td>...</td>\n",
       "      <td>...</td>\n",
       "      <td>...</td>\n",
       "      <td>...</td>\n",
       "    </tr>\n",
       "    <tr>\n",
       "      <th>2015-11-30</th>\n",
       "      <td>5</td>\n",
       "      <td>11544</td>\n",
       "      <td>2.98</td>\n",
       "      <td>FOODS_3_329</td>\n",
       "    </tr>\n",
       "    <tr>\n",
       "      <th>2015-11-30</th>\n",
       "      <td>4</td>\n",
       "      <td>11544</td>\n",
       "      <td>1.68</td>\n",
       "      <td>FOODS_3_555</td>\n",
       "    </tr>\n",
       "    <tr>\n",
       "      <th>2015-11-30</th>\n",
       "      <td>9</td>\n",
       "      <td>11544</td>\n",
       "      <td>1.68</td>\n",
       "      <td>FOODS_3_586</td>\n",
       "    </tr>\n",
       "    <tr>\n",
       "      <th>2015-11-30</th>\n",
       "      <td>13</td>\n",
       "      <td>11544</td>\n",
       "      <td>2.48</td>\n",
       "      <td>FOODS_3_587</td>\n",
       "    </tr>\n",
       "    <tr>\n",
       "      <th>2015-11-30</th>\n",
       "      <td>9</td>\n",
       "      <td>11544</td>\n",
       "      <td>1.58</td>\n",
       "      <td>FOODS_3_714</td>\n",
       "    </tr>\n",
       "  </tbody>\n",
       "</table>\n",
       "<p>21280 rows × 4 columns</p>\n",
       "</div>"
      ],
      "text/plain": [
       "            sales  wm_yr_wk  sell_price      item_id\n",
       "date                                                \n",
       "2013-01-01      0     11249        1.25  FOODS_3_090\n",
       "2013-01-01      0     11249        4.98  FOODS_3_120\n",
       "2013-01-01     20     11249        4.28  FOODS_3_202\n",
       "2013-01-01     34     11249        1.48  FOODS_3_252\n",
       "2013-01-01      0     11249         NaN  FOODS_3_288\n",
       "...           ...       ...         ...          ...\n",
       "2015-11-30      5     11544        2.98  FOODS_3_329\n",
       "2015-11-30      4     11544        1.68  FOODS_3_555\n",
       "2015-11-30      9     11544        1.68  FOODS_3_586\n",
       "2015-11-30     13     11544        2.48  FOODS_3_587\n",
       "2015-11-30      9     11544        1.58  FOODS_3_714\n",
       "\n",
       "[21280 rows x 4 columns]"
      ]
     },
     "execution_count": 31,
     "metadata": {},
     "output_type": "execute_result"
    }
   ],
   "source": [
    "num = pd.concat([num,cat.item_id], axis = 1)\n",
    "num"
   ]
  },
  {
   "cell_type": "markdown",
   "id": "475115c2",
   "metadata": {},
   "source": [
    "#### Correct the nulls of sell_price"
   ]
  },
  {
   "cell_type": "markdown",
   "id": "1904e1ba",
   "metadata": {},
   "source": [
    "##### Calculate the most frequent price by product and impute"
   ]
  },
  {
   "cell_type": "code",
   "execution_count": 32,
   "id": "829f6fc3",
   "metadata": {},
   "outputs": [
    {
     "name": "stderr",
     "output_type": "stream",
     "text": [
      "/var/folders/b5/qz8x1m_510q3zk9lktbr3gx40000gn/T/ipykernel_15619/286103201.py:9: DeprecationWarning: DataFrameGroupBy.apply operated on the grouping columns. This behavior is deprecated, and in a future version of pandas the grouping columns will be excluded from the operation. Either pass `include_groups=False` to exclude the groupings or explicitly select the grouping columns after groupby to silence this warning.\n",
      "  num = num.groupby('item_id', group_keys=False).apply(impute_mode)\n"
     ]
    }
   ],
   "source": [
    "def impute_mode(records):\n",
    "    # Calculate the mode of the price for that product\n",
    "    mode = records.sell_price.mode()[0]\n",
    "    # Impute the nulls\n",
    "    records.loc[records.sell_price.isna(), 'sell_price'] = mode\n",
    "    # Return all records of the product\n",
    "    return(records)\n",
    "\n",
    "num = num.groupby('item_id', group_keys=False).apply(impute_mode)"
   ]
  },
  {
   "cell_type": "markdown",
   "id": "076f436a",
   "metadata": {},
   "source": [
    "To check that the imputation has been done by product, we can review the different price values in each product and see that there is no large jump, for example a jump from 3 to 10."
   ]
  },
  {
   "cell_type": "code",
   "execution_count": 33,
   "id": "098666f0",
   "metadata": {},
   "outputs": [
    {
     "data": {
      "text/plain": [
       "item_id      sell_price\n",
       "FOODS_3_090  1.48           658\n",
       "             1.38           546\n",
       "             1.44           504\n",
       "             1.00           280\n",
       "             1.50            90\n",
       "             1.25            50\n",
       "FOODS_3_120  4.98          2128\n",
       "FOODS_3_202  4.58           727\n",
       "             4.38           525\n",
       "             4.28           386\n",
       "             3.98           350\n",
       "             3.00           105\n",
       "             3.33            21\n",
       "             3.25             7\n",
       "             4.48             7\n",
       "FOODS_3_252  1.58          1182\n",
       "             1.48           946\n",
       "FOODS_3_288  1.50          2100\n",
       "             1.25            21\n",
       "             1.18             7\n",
       "FOODS_3_329  2.98          2079\n",
       "             2.74            42\n",
       "             1.98             7\n",
       "FOODS_3_555  1.58          1149\n",
       "             1.68           979\n",
       "FOODS_3_586  1.58          1149\n",
       "             1.68           979\n",
       "FOODS_3_587  2.48          1644\n",
       "             2.68           421\n",
       "             1.98            63\n",
       "FOODS_3_714  1.58          1322\n",
       "             1.48           806\n",
       "Name: count, dtype: int64"
      ]
     },
     "execution_count": 33,
     "metadata": {},
     "output_type": "execute_result"
    }
   ],
   "source": [
    "num.groupby('item_id').sell_price.value_counts()"
   ]
  },
  {
   "cell_type": "markdown",
   "id": "082e59de",
   "metadata": {},
   "source": [
    "##### Eliminate the product"
   ]
  },
  {
   "cell_type": "code",
   "execution_count": 34,
   "id": "7af60377",
   "metadata": {},
   "outputs": [],
   "source": [
    "num.drop(columns = 'item_id',inplace=True)"
   ]
  },
  {
   "cell_type": "code",
   "execution_count": 35,
   "id": "95e18d40",
   "metadata": {},
   "outputs": [
    {
     "data": {
      "text/html": [
       "<div>\n",
       "<style scoped>\n",
       "    .dataframe tbody tr th:only-of-type {\n",
       "        vertical-align: middle;\n",
       "    }\n",
       "\n",
       "    .dataframe tbody tr th {\n",
       "        vertical-align: top;\n",
       "    }\n",
       "\n",
       "    .dataframe thead th {\n",
       "        text-align: right;\n",
       "    }\n",
       "</style>\n",
       "<table border=\"1\" class=\"dataframe\">\n",
       "  <thead>\n",
       "    <tr style=\"text-align: right;\">\n",
       "      <th></th>\n",
       "      <th>sales</th>\n",
       "      <th>wm_yr_wk</th>\n",
       "      <th>sell_price</th>\n",
       "    </tr>\n",
       "    <tr>\n",
       "      <th>date</th>\n",
       "      <th></th>\n",
       "      <th></th>\n",
       "      <th></th>\n",
       "    </tr>\n",
       "  </thead>\n",
       "  <tbody>\n",
       "    <tr>\n",
       "      <th>2013-01-01</th>\n",
       "      <td>0</td>\n",
       "      <td>11249</td>\n",
       "      <td>1.25</td>\n",
       "    </tr>\n",
       "    <tr>\n",
       "      <th>2013-01-01</th>\n",
       "      <td>33</td>\n",
       "      <td>11249</td>\n",
       "      <td>1.25</td>\n",
       "    </tr>\n",
       "    <tr>\n",
       "      <th>2013-01-01</th>\n",
       "      <td>0</td>\n",
       "      <td>11249</td>\n",
       "      <td>4.98</td>\n",
       "    </tr>\n",
       "    <tr>\n",
       "      <th>2013-01-01</th>\n",
       "      <td>0</td>\n",
       "      <td>11249</td>\n",
       "      <td>4.98</td>\n",
       "    </tr>\n",
       "    <tr>\n",
       "      <th>2013-01-01</th>\n",
       "      <td>20</td>\n",
       "      <td>11249</td>\n",
       "      <td>4.28</td>\n",
       "    </tr>\n",
       "  </tbody>\n",
       "</table>\n",
       "</div>"
      ],
      "text/plain": [
       "            sales  wm_yr_wk  sell_price\n",
       "date                                   \n",
       "2013-01-01      0     11249        1.25\n",
       "2013-01-01     33     11249        1.25\n",
       "2013-01-01      0     11249        4.98\n",
       "2013-01-01      0     11249        4.98\n",
       "2013-01-01     20     11249        4.28"
      ]
     },
     "execution_count": 35,
     "metadata": {},
     "output_type": "execute_result"
    }
   ],
   "source": [
    "num.head()"
   ]
  },
  {
   "cell_type": "markdown",
   "id": "82cb56e8",
   "metadata": {},
   "source": [
    "### Outliers"
   ]
  },
  {
   "cell_type": "markdown",
   "id": "760baf8c",
   "metadata": {},
   "source": [
    "#### Using standard deviation"
   ]
  },
  {
   "cell_type": "markdown",
   "id": "4b508149",
   "metadata": {},
   "source": [
    "##### Identification"
   ]
  },
  {
   "cell_type": "markdown",
   "id": "8ceda3d3",
   "metadata": {},
   "source": [
    "###### Define the number of standard deviations"
   ]
  },
  {
   "cell_type": "code",
   "execution_count": 41,
   "id": "2b7419cb",
   "metadata": {},
   "outputs": [],
   "source": [
    "num_std_dev = 4"
   ]
  },
  {
   "cell_type": "markdown",
   "id": "942da237",
   "metadata": {},
   "source": [
    "###### Function that returns the indices of the outliers"
   ]
  },
  {
   "cell_type": "code",
   "execution_count": 42,
   "id": "8a81f494",
   "metadata": {},
   "outputs": [],
   "source": [
    "def outliers_std_dev(variable, num_std_dev=4):\n",
    "    # Remove null values for now\n",
    "    variable = variable.dropna()\n",
    "    # Calculate the limits\n",
    "    mean = np.mean(variable)\n",
    "    sd = np.std(variable)\n",
    "    threshold = sd * num_std_dev\n",
    "    lower_limit = mean - threshold\n",
    "    upper_limit = mean + threshold\n",
    "    # Find the indices of those outside the limits\n",
    "    indices = [index for index, value in variable.items() if value < lower_limit or value > upper_limit]\n",
    "    return(indices)"
   ]
  },
  {
   "cell_type": "markdown",
   "id": "768e7398",
   "metadata": {},
   "source": [
    "###### Function that counts the number of outliers"
   ]
  },
  {
   "cell_type": "code",
   "execution_count": 43,
   "id": "5c8f4462",
   "metadata": {},
   "outputs": [],
   "source": [
    "def count_outliers(df, variable, num_std_dev=4):\n",
    "    outliers = outliers_std_dev(df[variable], num_std_dev)\n",
    "    return(df.loc[outliers, variable].value_counts())"
   ]
  },
  {
   "cell_type": "markdown",
   "id": "5cd1e425",
   "metadata": {},
   "source": [
    "###### Variables to apply"
   ]
  },
  {
   "cell_type": "code",
   "execution_count": 44,
   "id": "cfbb3d88",
   "metadata": {},
   "outputs": [],
   "source": [
    "var_outliers_std_dev = ['sales','sell_price']"
   ]
  },
  {
   "cell_type": "markdown",
   "id": "ac400ced",
   "metadata": {},
   "source": [
    "###### Aplicar"
   ]
  },
  {
   "cell_type": "code",
   "execution_count": 45,
   "id": "c4b74e98",
   "metadata": {
    "scrolled": true
   },
   "outputs": [
    {
     "name": "stdout",
     "output_type": "stream",
     "text": [
      "\n",
      "sales:\n",
      "\n",
      "sales\n",
      "0      518\n",
      "1      103\n",
      "5      100\n",
      "10      95\n",
      "7       92\n",
      "      ... \n",
      "158      1\n",
      "139      1\n",
      "103      1\n",
      "107      1\n",
      "323      1\n",
      "Name: count, Length: 247, dtype: int64\n",
      "\n",
      "sell_price:\n",
      "\n",
      "Series([], Name: count, dtype: int64)\n"
     ]
    }
   ],
   "source": [
    "for variable in var_outliers_std_dev:\n",
    "    print('\\n' + variable + ':\\n')\n",
    "    print(count_outliers(num, variable, num_std_dev))"
   ]
  },
  {
   "cell_type": "markdown",
   "id": "3d2cd3d3",
   "metadata": {},
   "source": [
    "Might be upper outliers."
   ]
  },
  {
   "cell_type": "code",
   "execution_count": 46,
   "id": "5150d3fa",
   "metadata": {},
   "outputs": [
    {
     "data": {
      "image/png": "[encoded data removed]",
      "text/plain": [
       "<Figure size 1200x600 with 1 Axes>"
      ]
     },
     "metadata": {},
     "output_type": "display_data"
    }
   ],
   "source": [
    "num.sales.value_counts().plot(figsize = (12,6));"
   ]
  },
  {
   "cell_type": "markdown",
   "id": "b8736033",
   "metadata": {},
   "source": [
    "Conclusion:\n",
    "\n",
    "* It is a clear example of a long tail, which is very common in retail\n",
    "* Better not do anything about outliers for now, we will see it better in EDA."
   ]
  },
  {
   "cell_type": "markdown",
   "id": "ed07954a",
   "metadata": {},
   "source": [
    "### Long Tail in Retail Sales\n",
    "\n",
    "A long tail in retail sales is common due to several factors:\n",
    "\n",
    "1. **Diverse Product Range**: Retailers offer a wide variety of products, including niche items that appeal to specific customer segments.\n",
    "\n",
    "2. **Consumer Behavior**: Varied consumer preferences lead to demand for unique or specialized items, contributing to the long tail.\n",
    "\n",
    "3. **Online Retailing**: E-commerce allows retailers to stock a vast inventory without physical space constraints, enabling sales of less popular items.\n",
    "\n",
    "4. **Search and Discovery**: Algorithms on online platforms help customers discover niche products, increasing their sales.\n",
    "\n",
    "5. **Seasonality and Trends**: Certain products may experience sales spikes during specific seasons or events, adding to the long tail.\n",
    "\n",
    "6. **Inventory Management**: Data analytics help retailers optimize inventory by balancing high-demand and low-demand items.\n",
    "\n",
    "7. **Brand Loyalty and Niche Markets**: Loyal customers may continue purchasing less popular items, benefiting retailers catering to niche markets.\n",
    "\n",
    "8. **Price Sensitivity**: Consumers may opt for cheaper alternatives, contributing to sales in the long tail.\n",
    "\n",
    "Understanding the long tail allows retailers to optimize inventory and enhance customer satisfaction, driving sales across a broader range of products. "
   ]
  },
  {
   "cell_type": "markdown",
   "id": "0f6b1e4a",
   "metadata": {},
   "source": [
    "## SAVE DATASETS AFTER DATA QUALITY"
   ]
  },
  {
   "cell_type": "markdown",
   "id": "1e211b09",
   "metadata": {},
   "source": [
    "Save changes in parquet files"
   ]
  },
  {
   "cell_type": "code",
   "execution_count": 48,
   "id": "f83c6f26",
   "metadata": {},
   "outputs": [
    {
     "name": "stdout",
     "output_type": "stream",
     "text": [
      "Datasets saved successfully in Parquet format.\n"
     ]
    }
   ],
   "source": [
    "# Define the paths for saving Parquet files\n",
    "path_work = TRANSFORMED_DATA_DIR / 'work_result_quality.parquet'\n",
    "path_cat = TRANSFORMED_DATA_DIR / 'cat_result_quality.parquet'\n",
    "path_num = TRANSFORMED_DATA_DIR / 'num_result_quality.parquet'\n",
    "\n",
    "# Save the DataFrames as Parquet files\n",
    "df.to_parquet(path_work)\n",
    "cat.to_parquet(path_cat)\n",
    "num.to_parquet(path_num)\n",
    "\n",
    "print(\"Datasets saved successfully in Parquet format.\")"
   ]
  },
  {
   "cell_type": "code",
   "execution_count": 1,
   "id": "453b8455",
   "metadata": {},
   "outputs": [
    {
     "name": "stdout",
     "output_type": "stream",
     "text": [
      "^C\n"
     ]
    }
   ],
   "source": [
    "cat"
   ]
  },
  {
   "cell_type": "code",
   "execution_count": 51,
   "id": "70057b4a",
   "metadata": {},
   "outputs": [
    {
     "data": {
      "text/html": [
       "<div>\n",
       "<style scoped>\n",
       "    .dataframe tbody tr th:only-of-type {\n",
       "        vertical-align: middle;\n",
       "    }\n",
       "\n",
       "    .dataframe tbody tr th {\n",
       "        vertical-align: top;\n",
       "    }\n",
       "\n",
       "    .dataframe thead th {\n",
       "        text-align: right;\n",
       "    }\n",
       "</style>\n",
       "<table border=\"1\" class=\"dataframe\">\n",
       "  <thead>\n",
       "    <tr style=\"text-align: right;\">\n",
       "      <th></th>\n",
       "      <th>sales</th>\n",
       "      <th>wm_yr_wk</th>\n",
       "      <th>sell_price</th>\n",
       "    </tr>\n",
       "    <tr>\n",
       "      <th>date</th>\n",
       "      <th></th>\n",
       "      <th></th>\n",
       "      <th></th>\n",
       "    </tr>\n",
       "  </thead>\n",
       "  <tbody>\n",
       "    <tr>\n",
       "      <th>2013-01-01</th>\n",
       "      <td>0</td>\n",
       "      <td>11249</td>\n",
       "      <td>1.25</td>\n",
       "    </tr>\n",
       "    <tr>\n",
       "      <th>2013-01-01</th>\n",
       "      <td>33</td>\n",
       "      <td>11249</td>\n",
       "      <td>1.25</td>\n",
       "    </tr>\n",
       "    <tr>\n",
       "      <th>2013-01-01</th>\n",
       "      <td>0</td>\n",
       "      <td>11249</td>\n",
       "      <td>4.98</td>\n",
       "    </tr>\n",
       "    <tr>\n",
       "      <th>2013-01-01</th>\n",
       "      <td>0</td>\n",
       "      <td>11249</td>\n",
       "      <td>4.98</td>\n",
       "    </tr>\n",
       "    <tr>\n",
       "      <th>2013-01-01</th>\n",
       "      <td>20</td>\n",
       "      <td>11249</td>\n",
       "      <td>4.28</td>\n",
       "    </tr>\n",
       "    <tr>\n",
       "      <th>...</th>\n",
       "      <td>...</td>\n",
       "      <td>...</td>\n",
       "      <td>...</td>\n",
       "    </tr>\n",
       "    <tr>\n",
       "      <th>2015-11-30</th>\n",
       "      <td>9</td>\n",
       "      <td>11544</td>\n",
       "      <td>1.68</td>\n",
       "    </tr>\n",
       "    <tr>\n",
       "      <th>2015-11-30</th>\n",
       "      <td>26</td>\n",
       "      <td>11544</td>\n",
       "      <td>2.48</td>\n",
       "    </tr>\n",
       "    <tr>\n",
       "      <th>2015-11-30</th>\n",
       "      <td>13</td>\n",
       "      <td>11544</td>\n",
       "      <td>2.48</td>\n",
       "    </tr>\n",
       "    <tr>\n",
       "      <th>2015-11-30</th>\n",
       "      <td>11</td>\n",
       "      <td>11544</td>\n",
       "      <td>1.58</td>\n",
       "    </tr>\n",
       "    <tr>\n",
       "      <th>2015-11-30</th>\n",
       "      <td>9</td>\n",
       "      <td>11544</td>\n",
       "      <td>1.58</td>\n",
       "    </tr>\n",
       "  </tbody>\n",
       "</table>\n",
       "<p>21280 rows × 3 columns</p>\n",
       "</div>"
      ],
      "text/plain": [
       "            sales  wm_yr_wk  sell_price\n",
       "date                                   \n",
       "2013-01-01      0     11249        1.25\n",
       "2013-01-01     33     11249        1.25\n",
       "2013-01-01      0     11249        4.98\n",
       "2013-01-01      0     11249        4.98\n",
       "2013-01-01     20     11249        4.28\n",
       "...           ...       ...         ...\n",
       "2015-11-30      9     11544        1.68\n",
       "2015-11-30     26     11544        2.48\n",
       "2015-11-30     13     11544        2.48\n",
       "2015-11-30     11     11544        1.58\n",
       "2015-11-30      9     11544        1.58\n",
       "\n",
       "[21280 rows x 3 columns]"
      ]
     },
     "execution_count": 51,
     "metadata": {},
     "output_type": "execute_result"
    }
   ],
   "source": [
    "num"
   ]
  }
 ],
 "metadata": {
  "kernelspec": {
   "display_name": ".venv",
   "language": "python",
   "name": "python3"
  },
  "language_info": {
   "codemirror_mode": {
    "name": "ipython",
    "version": 3
   },
   "file_extension": ".py",
   "mimetype": "text/x-python",
   "name": "python",
   "nbconvert_exporter": "python",
   "pygments_lexer": "ipython3",
   "version": "3.13.1"
  },
  "toc": {
   "base_numbering": 1,
   "nav_menu": {},
   "number_sections": true,
   "sideBar": true,
   "skip_h1_title": false,
   "title_cell": "Table of Contents",
   "title_sidebar": "Contents",
   "toc_cell": false,
   "toc_position": {
    "height": "calc(100% - 180px)",
    "left": "10px",
    "top": "150px",
    "width": "238.533px"
   },
   "toc_section_display": true,
   "toc_window_display": true
  },
  "varInspector": {
   "cols": {
    "lenName": 16,
    "lenType": 16,
    "lenVar": 40
   },
   "kernels_config": {
    "python": {
     "delete_cmd_postfix": "",
     "delete_cmd_prefix": "del ",
     "library": "var_list.py",
     "varRefreshCmd": "print(var_dic_list())"
    },
    "r": {
     "delete_cmd_postfix": ") ",
     "delete_cmd_prefix": "rm(",
     "library": "var_list.r",
     "varRefreshCmd": "cat(var_dic_list()) "
    }
   },
   "position": {
    "height": "546.85px",
    "left": "680.75px",
    "right": "20px",
    "top": "118px",
    "width": "350px"
   },
   "types_to_exclude": [
    "module",
    "function",
    "builtin_function_or_method",
    "instance",
    "_Feature"
   ],
   "window_display": false
  }
 },
 "nbformat": 4,
 "nbformat_minor": 5
}
